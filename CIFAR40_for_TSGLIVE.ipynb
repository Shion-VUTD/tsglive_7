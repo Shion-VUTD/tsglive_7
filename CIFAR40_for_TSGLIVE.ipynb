{
  "nbformat": 4,
  "nbformat_minor": 0,
  "metadata": {
    "colab": {
      "name": "CIFAR40_for_TSGLIIVE.ipynb",
      "provenance": []
    },
    "kernelspec": {
      "name": "python3",
      "display_name": "Python 3"
    },
    "language_info": {
      "name": "python"
    },
    "widgets": {
      "application/vnd.jupyter.widget-state+json": {
        "a8296d2ebc8941af9d4e74308f02846e": {
          "model_module": "@jupyter-widgets/controls",
          "model_name": "HBoxModel",
          "model_module_version": "1.5.0",
          "state": {
            "_view_name": "HBoxView",
            "_dom_classes": [],
            "_model_name": "HBoxModel",
            "_view_module": "@jupyter-widgets/controls",
            "_model_module_version": "1.5.0",
            "_view_count": null,
            "_view_module_version": "1.5.0",
            "box_style": "",
            "layout": "IPY_MODEL_470acd8be9d04395a9c8b4499d18ad2c",
            "_model_module": "@jupyter-widgets/controls",
            "children": [
              "IPY_MODEL_b505587c909245feb3e69402970de334",
              "IPY_MODEL_d824685e178a420095abc6a63b26cb7c",
              "IPY_MODEL_5691582f57bc465db39482b1ab59850e"
            ]
          }
        },
        "470acd8be9d04395a9c8b4499d18ad2c": {
          "model_module": "@jupyter-widgets/base",
          "model_name": "LayoutModel",
          "model_module_version": "1.2.0",
          "state": {
            "_view_name": "LayoutView",
            "grid_template_rows": null,
            "right": null,
            "justify_content": null,
            "_view_module": "@jupyter-widgets/base",
            "overflow": null,
            "_model_module_version": "1.2.0",
            "_view_count": null,
            "flex_flow": null,
            "width": null,
            "min_width": null,
            "border": null,
            "align_items": null,
            "bottom": null,
            "_model_module": "@jupyter-widgets/base",
            "top": null,
            "grid_column": null,
            "overflow_y": null,
            "overflow_x": null,
            "grid_auto_flow": null,
            "grid_area": null,
            "grid_template_columns": null,
            "flex": null,
            "_model_name": "LayoutModel",
            "justify_items": null,
            "grid_row": null,
            "max_height": null,
            "align_content": null,
            "visibility": null,
            "align_self": null,
            "height": null,
            "min_height": null,
            "padding": null,
            "grid_auto_rows": null,
            "grid_gap": null,
            "max_width": null,
            "order": null,
            "_view_module_version": "1.2.0",
            "grid_template_areas": null,
            "object_position": null,
            "object_fit": null,
            "grid_auto_columns": null,
            "margin": null,
            "display": null,
            "left": null
          }
        },
        "b505587c909245feb3e69402970de334": {
          "model_module": "@jupyter-widgets/controls",
          "model_name": "HTMLModel",
          "model_module_version": "1.5.0",
          "state": {
            "_view_name": "HTMLView",
            "style": "IPY_MODEL_a48338e5b95041ceb143d0838a882d7f",
            "_dom_classes": [],
            "description": "",
            "_model_name": "HTMLModel",
            "placeholder": "​",
            "_view_module": "@jupyter-widgets/controls",
            "_model_module_version": "1.5.0",
            "value": "",
            "_view_count": null,
            "_view_module_version": "1.5.0",
            "description_tooltip": null,
            "_model_module": "@jupyter-widgets/controls",
            "layout": "IPY_MODEL_1af9181bce234389a579b3923ea91904"
          }
        },
        "d824685e178a420095abc6a63b26cb7c": {
          "model_module": "@jupyter-widgets/controls",
          "model_name": "FloatProgressModel",
          "model_module_version": "1.5.0",
          "state": {
            "_view_name": "ProgressView",
            "style": "IPY_MODEL_50e16520e5734ad4ab101f383e6a5841",
            "_dom_classes": [],
            "description": "",
            "_model_name": "FloatProgressModel",
            "bar_style": "success",
            "max": 170498071,
            "_view_module": "@jupyter-widgets/controls",
            "_model_module_version": "1.5.0",
            "value": 170498071,
            "_view_count": null,
            "_view_module_version": "1.5.0",
            "orientation": "horizontal",
            "min": 0,
            "description_tooltip": null,
            "_model_module": "@jupyter-widgets/controls",
            "layout": "IPY_MODEL_922e3b531133448592ddf4800cedbcf5"
          }
        },
        "5691582f57bc465db39482b1ab59850e": {
          "model_module": "@jupyter-widgets/controls",
          "model_name": "HTMLModel",
          "model_module_version": "1.5.0",
          "state": {
            "_view_name": "HTMLView",
            "style": "IPY_MODEL_e8ebc5f13d4f4e89b96dd170953171ce",
            "_dom_classes": [],
            "description": "",
            "_model_name": "HTMLModel",
            "placeholder": "​",
            "_view_module": "@jupyter-widgets/controls",
            "_model_module_version": "1.5.0",
            "value": " 170499072/? [00:03&lt;00:00, 53506419.47it/s]",
            "_view_count": null,
            "_view_module_version": "1.5.0",
            "description_tooltip": null,
            "_model_module": "@jupyter-widgets/controls",
            "layout": "IPY_MODEL_2e8e82279ec24edb99445220fe178372"
          }
        },
        "a48338e5b95041ceb143d0838a882d7f": {
          "model_module": "@jupyter-widgets/controls",
          "model_name": "DescriptionStyleModel",
          "model_module_version": "1.5.0",
          "state": {
            "_view_name": "StyleView",
            "_model_name": "DescriptionStyleModel",
            "description_width": "",
            "_view_module": "@jupyter-widgets/base",
            "_model_module_version": "1.5.0",
            "_view_count": null,
            "_view_module_version": "1.2.0",
            "_model_module": "@jupyter-widgets/controls"
          }
        },
        "1af9181bce234389a579b3923ea91904": {
          "model_module": "@jupyter-widgets/base",
          "model_name": "LayoutModel",
          "model_module_version": "1.2.0",
          "state": {
            "_view_name": "LayoutView",
            "grid_template_rows": null,
            "right": null,
            "justify_content": null,
            "_view_module": "@jupyter-widgets/base",
            "overflow": null,
            "_model_module_version": "1.2.0",
            "_view_count": null,
            "flex_flow": null,
            "width": null,
            "min_width": null,
            "border": null,
            "align_items": null,
            "bottom": null,
            "_model_module": "@jupyter-widgets/base",
            "top": null,
            "grid_column": null,
            "overflow_y": null,
            "overflow_x": null,
            "grid_auto_flow": null,
            "grid_area": null,
            "grid_template_columns": null,
            "flex": null,
            "_model_name": "LayoutModel",
            "justify_items": null,
            "grid_row": null,
            "max_height": null,
            "align_content": null,
            "visibility": null,
            "align_self": null,
            "height": null,
            "min_height": null,
            "padding": null,
            "grid_auto_rows": null,
            "grid_gap": null,
            "max_width": null,
            "order": null,
            "_view_module_version": "1.2.0",
            "grid_template_areas": null,
            "object_position": null,
            "object_fit": null,
            "grid_auto_columns": null,
            "margin": null,
            "display": null,
            "left": null
          }
        },
        "50e16520e5734ad4ab101f383e6a5841": {
          "model_module": "@jupyter-widgets/controls",
          "model_name": "ProgressStyleModel",
          "model_module_version": "1.5.0",
          "state": {
            "_view_name": "StyleView",
            "_model_name": "ProgressStyleModel",
            "description_width": "",
            "_view_module": "@jupyter-widgets/base",
            "_model_module_version": "1.5.0",
            "_view_count": null,
            "_view_module_version": "1.2.0",
            "bar_color": null,
            "_model_module": "@jupyter-widgets/controls"
          }
        },
        "922e3b531133448592ddf4800cedbcf5": {
          "model_module": "@jupyter-widgets/base",
          "model_name": "LayoutModel",
          "model_module_version": "1.2.0",
          "state": {
            "_view_name": "LayoutView",
            "grid_template_rows": null,
            "right": null,
            "justify_content": null,
            "_view_module": "@jupyter-widgets/base",
            "overflow": null,
            "_model_module_version": "1.2.0",
            "_view_count": null,
            "flex_flow": null,
            "width": null,
            "min_width": null,
            "border": null,
            "align_items": null,
            "bottom": null,
            "_model_module": "@jupyter-widgets/base",
            "top": null,
            "grid_column": null,
            "overflow_y": null,
            "overflow_x": null,
            "grid_auto_flow": null,
            "grid_area": null,
            "grid_template_columns": null,
            "flex": null,
            "_model_name": "LayoutModel",
            "justify_items": null,
            "grid_row": null,
            "max_height": null,
            "align_content": null,
            "visibility": null,
            "align_self": null,
            "height": null,
            "min_height": null,
            "padding": null,
            "grid_auto_rows": null,
            "grid_gap": null,
            "max_width": null,
            "order": null,
            "_view_module_version": "1.2.0",
            "grid_template_areas": null,
            "object_position": null,
            "object_fit": null,
            "grid_auto_columns": null,
            "margin": null,
            "display": null,
            "left": null
          }
        },
        "e8ebc5f13d4f4e89b96dd170953171ce": {
          "model_module": "@jupyter-widgets/controls",
          "model_name": "DescriptionStyleModel",
          "model_module_version": "1.5.0",
          "state": {
            "_view_name": "StyleView",
            "_model_name": "DescriptionStyleModel",
            "description_width": "",
            "_view_module": "@jupyter-widgets/base",
            "_model_module_version": "1.5.0",
            "_view_count": null,
            "_view_module_version": "1.2.0",
            "_model_module": "@jupyter-widgets/controls"
          }
        },
        "2e8e82279ec24edb99445220fe178372": {
          "model_module": "@jupyter-widgets/base",
          "model_name": "LayoutModel",
          "model_module_version": "1.2.0",
          "state": {
            "_view_name": "LayoutView",
            "grid_template_rows": null,
            "right": null,
            "justify_content": null,
            "_view_module": "@jupyter-widgets/base",
            "overflow": null,
            "_model_module_version": "1.2.0",
            "_view_count": null,
            "flex_flow": null,
            "width": null,
            "min_width": null,
            "border": null,
            "align_items": null,
            "bottom": null,
            "_model_module": "@jupyter-widgets/base",
            "top": null,
            "grid_column": null,
            "overflow_y": null,
            "overflow_x": null,
            "grid_auto_flow": null,
            "grid_area": null,
            "grid_template_columns": null,
            "flex": null,
            "_model_name": "LayoutModel",
            "justify_items": null,
            "grid_row": null,
            "max_height": null,
            "align_content": null,
            "visibility": null,
            "align_self": null,
            "height": null,
            "min_height": null,
            "padding": null,
            "grid_auto_rows": null,
            "grid_gap": null,
            "max_width": null,
            "order": null,
            "_view_module_version": "1.2.0",
            "grid_template_areas": null,
            "object_position": null,
            "object_fit": null,
            "grid_auto_columns": null,
            "margin": null,
            "display": null,
            "left": null
          }
        },
        "063d438adaf6449ba8a629c12490b035": {
          "model_module": "@jupyter-widgets/controls",
          "model_name": "HBoxModel",
          "model_module_version": "1.5.0",
          "state": {
            "_view_name": "HBoxView",
            "_dom_classes": [],
            "_model_name": "HBoxModel",
            "_view_module": "@jupyter-widgets/controls",
            "_model_module_version": "1.5.0",
            "_view_count": null,
            "_view_module_version": "1.5.0",
            "box_style": "",
            "layout": "IPY_MODEL_e47751d5a7cc479d9a868a1aada40c7b",
            "_model_module": "@jupyter-widgets/controls",
            "children": [
              "IPY_MODEL_c744de2bb63c443aa4233a07e9bd86fb",
              "IPY_MODEL_a31653ae67664b49a1d058318f456e35",
              "IPY_MODEL_b707d7b1f8c541e6a8df01b849c4d5fd"
            ]
          }
        },
        "e47751d5a7cc479d9a868a1aada40c7b": {
          "model_module": "@jupyter-widgets/base",
          "model_name": "LayoutModel",
          "model_module_version": "1.2.0",
          "state": {
            "_view_name": "LayoutView",
            "grid_template_rows": null,
            "right": null,
            "justify_content": null,
            "_view_module": "@jupyter-widgets/base",
            "overflow": null,
            "_model_module_version": "1.2.0",
            "_view_count": null,
            "flex_flow": null,
            "width": null,
            "min_width": null,
            "border": null,
            "align_items": null,
            "bottom": null,
            "_model_module": "@jupyter-widgets/base",
            "top": null,
            "grid_column": null,
            "overflow_y": null,
            "overflow_x": null,
            "grid_auto_flow": null,
            "grid_area": null,
            "grid_template_columns": null,
            "flex": null,
            "_model_name": "LayoutModel",
            "justify_items": null,
            "grid_row": null,
            "max_height": null,
            "align_content": null,
            "visibility": null,
            "align_self": null,
            "height": null,
            "min_height": null,
            "padding": null,
            "grid_auto_rows": null,
            "grid_gap": null,
            "max_width": null,
            "order": null,
            "_view_module_version": "1.2.0",
            "grid_template_areas": null,
            "object_position": null,
            "object_fit": null,
            "grid_auto_columns": null,
            "margin": null,
            "display": null,
            "left": null
          }
        },
        "c744de2bb63c443aa4233a07e9bd86fb": {
          "model_module": "@jupyter-widgets/controls",
          "model_name": "HTMLModel",
          "model_module_version": "1.5.0",
          "state": {
            "_view_name": "HTMLView",
            "style": "IPY_MODEL_82f7080d7a484b5881817eb1b0b3b73d",
            "_dom_classes": [],
            "description": "",
            "_model_name": "HTMLModel",
            "placeholder": "​",
            "_view_module": "@jupyter-widgets/controls",
            "_model_module_version": "1.5.0",
            "value": "100%",
            "_view_count": null,
            "_view_module_version": "1.5.0",
            "description_tooltip": null,
            "_model_module": "@jupyter-widgets/controls",
            "layout": "IPY_MODEL_6142c9de34a7403bba53fd58a5497477"
          }
        },
        "a31653ae67664b49a1d058318f456e35": {
          "model_module": "@jupyter-widgets/controls",
          "model_name": "FloatProgressModel",
          "model_module_version": "1.5.0",
          "state": {
            "_view_name": "ProgressView",
            "style": "IPY_MODEL_d9c5203e313d4840873b2f946dbb1c67",
            "_dom_classes": [],
            "description": "",
            "_model_name": "FloatProgressModel",
            "bar_style": "success",
            "max": 266860719,
            "_view_module": "@jupyter-widgets/controls",
            "_model_module_version": "1.5.0",
            "value": 266860719,
            "_view_count": null,
            "_view_module_version": "1.5.0",
            "orientation": "horizontal",
            "min": 0,
            "description_tooltip": null,
            "_model_module": "@jupyter-widgets/controls",
            "layout": "IPY_MODEL_27ef33c8e1b94085966ddf4672981d6c"
          }
        },
        "b707d7b1f8c541e6a8df01b849c4d5fd": {
          "model_module": "@jupyter-widgets/controls",
          "model_name": "HTMLModel",
          "model_module_version": "1.5.0",
          "state": {
            "_view_name": "HTMLView",
            "style": "IPY_MODEL_dd562a3932444e028b091cf25a655211",
            "_dom_classes": [],
            "description": "",
            "_model_name": "HTMLModel",
            "placeholder": "​",
            "_view_module": "@jupyter-widgets/controls",
            "_model_module_version": "1.5.0",
            "value": " 254M/254M [00:03&lt;00:00, 77.0MB/s]",
            "_view_count": null,
            "_view_module_version": "1.5.0",
            "description_tooltip": null,
            "_model_module": "@jupyter-widgets/controls",
            "layout": "IPY_MODEL_ab9b8cd5100f46ccb6d087cda7a4b94c"
          }
        },
        "82f7080d7a484b5881817eb1b0b3b73d": {
          "model_module": "@jupyter-widgets/controls",
          "model_name": "DescriptionStyleModel",
          "model_module_version": "1.5.0",
          "state": {
            "_view_name": "StyleView",
            "_model_name": "DescriptionStyleModel",
            "description_width": "",
            "_view_module": "@jupyter-widgets/base",
            "_model_module_version": "1.5.0",
            "_view_count": null,
            "_view_module_version": "1.2.0",
            "_model_module": "@jupyter-widgets/controls"
          }
        },
        "6142c9de34a7403bba53fd58a5497477": {
          "model_module": "@jupyter-widgets/base",
          "model_name": "LayoutModel",
          "model_module_version": "1.2.0",
          "state": {
            "_view_name": "LayoutView",
            "grid_template_rows": null,
            "right": null,
            "justify_content": null,
            "_view_module": "@jupyter-widgets/base",
            "overflow": null,
            "_model_module_version": "1.2.0",
            "_view_count": null,
            "flex_flow": null,
            "width": null,
            "min_width": null,
            "border": null,
            "align_items": null,
            "bottom": null,
            "_model_module": "@jupyter-widgets/base",
            "top": null,
            "grid_column": null,
            "overflow_y": null,
            "overflow_x": null,
            "grid_auto_flow": null,
            "grid_area": null,
            "grid_template_columns": null,
            "flex": null,
            "_model_name": "LayoutModel",
            "justify_items": null,
            "grid_row": null,
            "max_height": null,
            "align_content": null,
            "visibility": null,
            "align_self": null,
            "height": null,
            "min_height": null,
            "padding": null,
            "grid_auto_rows": null,
            "grid_gap": null,
            "max_width": null,
            "order": null,
            "_view_module_version": "1.2.0",
            "grid_template_areas": null,
            "object_position": null,
            "object_fit": null,
            "grid_auto_columns": null,
            "margin": null,
            "display": null,
            "left": null
          }
        },
        "d9c5203e313d4840873b2f946dbb1c67": {
          "model_module": "@jupyter-widgets/controls",
          "model_name": "ProgressStyleModel",
          "model_module_version": "1.5.0",
          "state": {
            "_view_name": "StyleView",
            "_model_name": "ProgressStyleModel",
            "description_width": "",
            "_view_module": "@jupyter-widgets/base",
            "_model_module_version": "1.5.0",
            "_view_count": null,
            "_view_module_version": "1.2.0",
            "bar_color": null,
            "_model_module": "@jupyter-widgets/controls"
          }
        },
        "27ef33c8e1b94085966ddf4672981d6c": {
          "model_module": "@jupyter-widgets/base",
          "model_name": "LayoutModel",
          "model_module_version": "1.2.0",
          "state": {
            "_view_name": "LayoutView",
            "grid_template_rows": null,
            "right": null,
            "justify_content": null,
            "_view_module": "@jupyter-widgets/base",
            "overflow": null,
            "_model_module_version": "1.2.0",
            "_view_count": null,
            "flex_flow": null,
            "width": null,
            "min_width": null,
            "border": null,
            "align_items": null,
            "bottom": null,
            "_model_module": "@jupyter-widgets/base",
            "top": null,
            "grid_column": null,
            "overflow_y": null,
            "overflow_x": null,
            "grid_auto_flow": null,
            "grid_area": null,
            "grid_template_columns": null,
            "flex": null,
            "_model_name": "LayoutModel",
            "justify_items": null,
            "grid_row": null,
            "max_height": null,
            "align_content": null,
            "visibility": null,
            "align_self": null,
            "height": null,
            "min_height": null,
            "padding": null,
            "grid_auto_rows": null,
            "grid_gap": null,
            "max_width": null,
            "order": null,
            "_view_module_version": "1.2.0",
            "grid_template_areas": null,
            "object_position": null,
            "object_fit": null,
            "grid_auto_columns": null,
            "margin": null,
            "display": null,
            "left": null
          }
        },
        "dd562a3932444e028b091cf25a655211": {
          "model_module": "@jupyter-widgets/controls",
          "model_name": "DescriptionStyleModel",
          "model_module_version": "1.5.0",
          "state": {
            "_view_name": "StyleView",
            "_model_name": "DescriptionStyleModel",
            "description_width": "",
            "_view_module": "@jupyter-widgets/base",
            "_model_module_version": "1.5.0",
            "_view_count": null,
            "_view_module_version": "1.2.0",
            "_model_module": "@jupyter-widgets/controls"
          }
        },
        "ab9b8cd5100f46ccb6d087cda7a4b94c": {
          "model_module": "@jupyter-widgets/base",
          "model_name": "LayoutModel",
          "model_module_version": "1.2.0",
          "state": {
            "_view_name": "LayoutView",
            "grid_template_rows": null,
            "right": null,
            "justify_content": null,
            "_view_module": "@jupyter-widgets/base",
            "overflow": null,
            "_model_module_version": "1.2.0",
            "_view_count": null,
            "flex_flow": null,
            "width": null,
            "min_width": null,
            "border": null,
            "align_items": null,
            "bottom": null,
            "_model_module": "@jupyter-widgets/base",
            "top": null,
            "grid_column": null,
            "overflow_y": null,
            "overflow_x": null,
            "grid_auto_flow": null,
            "grid_area": null,
            "grid_template_columns": null,
            "flex": null,
            "_model_name": "LayoutModel",
            "justify_items": null,
            "grid_row": null,
            "max_height": null,
            "align_content": null,
            "visibility": null,
            "align_self": null,
            "height": null,
            "min_height": null,
            "padding": null,
            "grid_auto_rows": null,
            "grid_gap": null,
            "max_width": null,
            "order": null,
            "_view_module_version": "1.2.0",
            "grid_template_areas": null,
            "object_position": null,
            "object_fit": null,
            "grid_auto_columns": null,
            "margin": null,
            "display": null,
            "left": null
          }
        }
      }
    },
    "accelerator": "GPU"
  },
  "cells": [
    {
      "cell_type": "markdown",
      "metadata": {
        "id": "cK3odeL9oRic"
      },
      "source": [
        "#CIFAR-100で画像分類を行ってみた"
      ]
    },
    {
      "cell_type": "markdown",
      "metadata": {
        "id": "Y-wsHMuHoiML"
      },
      "source": [
        "##ライブラリのインポート"
      ]
    },
    {
      "cell_type": "code",
      "metadata": {
        "id": "XXaUFKinolQR"
      },
      "source": [
        "import numpy as np\n",
        "import matplotlib.pyplot as plt\n",
        "import random\n",
        "from tqdm import tqdm\n",
        "import json\n",
        "from PIL import Image\n",
        "import torch\n",
        "import torchvision\n",
        "from torchvision import models,transforms \n",
        "%matplotlib inline"
      ],
      "execution_count": 1,
      "outputs": []
    },
    {
      "cell_type": "code",
      "metadata": {
        "id": "JJF7jwwGo2mv"
      },
      "source": [
        "import torch.nn as nn\n",
        "import torch.optim as optim\n",
        "import torch.utils.data as data\n",
        "import torch.nn.functional as F\n",
        "from torchvision import models,transforms "
      ],
      "execution_count": 2,
      "outputs": []
    },
    {
      "cell_type": "markdown",
      "metadata": {
        "id": "i6_cWAgpoZEM"
      },
      "source": [
        "##データの読み込み〜DataLoaderの作成"
      ]
    },
    {
      "cell_type": "markdown",
      "metadata": {
        "id": "20-ABaF81X6a"
      },
      "source": [
        "前処理クラスの作成"
      ]
    },
    {
      "cell_type": "code",
      "metadata": {
        "id": "lEQJ5W6pqEsv"
      },
      "source": [
        "#transformの作成\n",
        "#なんかtrainとvalidation機能してなくないか…？\n",
        "class CIFARTransform():\n",
        "  def __init__(self,resize,mean,std):\n",
        "    self.transform = {\n",
        "        \"train\":transforms.Compose([\n",
        "             transforms.Resize(resize),\n",
        "             transforms.RandomHorizontalFlip(),\n",
        "             transforms.ToTensor(),\n",
        "             transforms.Normalize(mean,std),\n",
        "        ]),\n",
        "        \"val\":transforms.Compose([\n",
        "             transforms.Resize(resize),\n",
        "             transforms.ToTensor(),\n",
        "             transforms.Normalize(mean,std)                    \n",
        "        ])\n",
        "    }\n",
        "\n",
        "  def __call__(self,img,phase=\"train\"):\n",
        "    return self.transform[phase](img)  "
      ],
      "execution_count": 3,
      "outputs": []
    },
    {
      "cell_type": "code",
      "metadata": {
        "id": "IoaD8rIttXBX"
      },
      "source": [
        "resize = 32\n",
        "mean = (0.485,0.456,0.406)\n",
        "std = (0.229,0.224,0.225)\n",
        "\n",
        "transform = CIFARTransform(resize,mean,std)"
      ],
      "execution_count": 4,
      "outputs": []
    },
    {
      "cell_type": "markdown",
      "metadata": {
        "id": "zeX3lXbG1d05"
      },
      "source": [
        "データセットをロード"
      ]
    },
    {
      "cell_type": "code",
      "metadata": {
        "id": "W5yZnUVJi4MS",
        "colab": {
          "base_uri": "https://localhost:8080/",
          "height": 100,
          "referenced_widgets": [
            "a8296d2ebc8941af9d4e74308f02846e",
            "470acd8be9d04395a9c8b4499d18ad2c",
            "b505587c909245feb3e69402970de334",
            "d824685e178a420095abc6a63b26cb7c",
            "5691582f57bc465db39482b1ab59850e",
            "a48338e5b95041ceb143d0838a882d7f",
            "1af9181bce234389a579b3923ea91904",
            "50e16520e5734ad4ab101f383e6a5841",
            "922e3b531133448592ddf4800cedbcf5",
            "e8ebc5f13d4f4e89b96dd170953171ce",
            "2e8e82279ec24edb99445220fe178372"
          ]
        },
        "outputId": "b4794dec-9759-4def-f6e2-8c0d861e6ca4"
      },
      "source": [
        "#CIFAR-100データセットの読み込み\n",
        "trainandvalset = torchvision.datasets.CIFAR10(root='./data', \n",
        "                                        train=True,\n",
        "                                        download=True,\n",
        "                                        transform=transform)\n",
        "     \n",
        "testset = torchvision.datasets.CIFAR10(root='./data', \n",
        "                                        train=False, \n",
        "                                        download=True, \n",
        "                                        transform=transform)\n",
        "\n",
        "\n"
      ],
      "execution_count": 5,
      "outputs": [
        {
          "output_type": "stream",
          "name": "stdout",
          "text": [
            "Downloading https://www.cs.toronto.edu/~kriz/cifar-10-python.tar.gz to ./data/cifar-10-python.tar.gz\n"
          ]
        },
        {
          "output_type": "display_data",
          "data": {
            "application/vnd.jupyter.widget-view+json": {
              "model_id": "a8296d2ebc8941af9d4e74308f02846e",
              "version_minor": 0,
              "version_major": 2
            },
            "text/plain": [
              "  0%|          | 0/170498071 [00:00<?, ?it/s]"
            ]
          },
          "metadata": {}
        },
        {
          "output_type": "stream",
          "name": "stdout",
          "text": [
            "Extracting ./data/cifar-10-python.tar.gz to ./data\n",
            "Files already downloaded and verified\n"
          ]
        }
      ]
    },
    {
      "cell_type": "markdown",
      "metadata": {
        "id": "qf6yoOciKRRd"
      },
      "source": [
        "サブセットの作成"
      ]
    },
    {
      "cell_type": "code",
      "metadata": {
        "id": "ww8CX5I0KUzn"
      },
      "source": [
        "def make_subset_list(dataset,label_list):\n",
        "  subset_list = []\n",
        "  for i in range(len(dataset)):\n",
        "    img_transformed,label = dataset[i][0],dataset[i][1]\n",
        "    if label in label_list:\n",
        "      label_mod = label_list.index(label)\n",
        "      subset_list.append((img_transformed,label_mod))\n",
        "  return subset_list    "
      ],
      "execution_count": 7,
      "outputs": []
    },
    {
      "cell_type": "code",
      "metadata": {
        "colab": {
          "base_uri": "https://localhost:8080/"
        },
        "id": "xIysRYj7LuBW",
        "outputId": "cd5dcb10-52f8-4009-d021-de5a2f1ece56"
      },
      "source": [
        "tsglive_label = [4,30,55,72,95,32,67,73,91,6,7,14,3,42,43,88,97,15,19,21,31,38,34,63,64,66,75,26,45,77,79,27,44,78,93,36,50,65,74,80]\n",
        "len(tsglive_label)"
      ],
      "execution_count": 8,
      "outputs": [
        {
          "output_type": "execute_result",
          "data": {
            "text/plain": [
              "40"
            ]
          },
          "metadata": {},
          "execution_count": 8
        }
      ]
    },
    {
      "cell_type": "code",
      "metadata": {
        "id": "tziHHPCELhHI"
      },
      "source": [
        "trainset,valset = data.random_split(trainandvalset,[40000,10000])\n",
        "train_subset_list = make_subset_list(trainset,tsglive_label)\n",
        "val_subset_list = make_subset_list(valset,tsglive_label)\n",
        "test_subset_list = make_subset_list(testset,tsglive_label)"
      ],
      "execution_count": 27,
      "outputs": []
    },
    {
      "cell_type": "code",
      "metadata": {
        "colab": {
          "base_uri": "https://localhost:8080/"
        },
        "id": "3ETf5Z4IUCdg",
        "outputId": "d5fbb17f-b9e0-41f8-cada-15c06f0de1d9"
      },
      "source": [
        "train_subset_list[2]"
      ],
      "execution_count": 28,
      "outputs": [
        {
          "output_type": "execute_result",
          "data": {
            "text/plain": [
              "(tensor([[[-1.2959, -1.2617, -1.2274,  ..., -1.4158, -1.4843, -1.5528],\n",
              "          [-1.2959, -1.2788, -1.2274,  ..., -1.4329, -1.4843, -1.5357],\n",
              "          [-1.2274, -1.2445, -1.2617,  ..., -1.4500, -1.4843, -1.5357],\n",
              "          ...,\n",
              "          [-1.5014, -1.5528, -1.4329,  ..., -0.3883, -1.3130, -1.4158],\n",
              "          [-1.6213, -1.6042, -1.4672,  ...,  0.0398, -0.8335, -1.2103],\n",
              "          [-1.7583, -1.7412, -1.6213,  ...,  0.1083, -0.5082, -1.0390]],\n",
              " \n",
              "         [[-1.1779, -1.1429, -1.1078,  ..., -1.2129, -1.2829, -1.3529],\n",
              "          [-1.1604, -1.1604, -1.1078,  ..., -1.2304, -1.2829, -1.3354],\n",
              "          [-1.0903, -1.1253, -1.1429,  ..., -1.2479, -1.2829, -1.3354],\n",
              "          ...,\n",
              "          [-1.2479, -1.1604, -1.0553,  ...,  0.3102, -0.8102, -1.0728],\n",
              "          [-1.3704, -1.2129, -1.0903,  ...,  0.7829, -0.2850, -0.8102],\n",
              "          [-1.5105, -1.3529, -1.2479,  ...,  0.8704,  0.0651, -0.6176]],\n",
              " \n",
              "         [[-0.8981, -0.8807, -0.8458,  ..., -0.9853, -1.0550, -1.1247],\n",
              "          [-0.8633, -0.8807, -0.8110,  ..., -1.0027, -1.0550, -1.1073],\n",
              "          [-0.7587, -0.8284, -0.8458,  ..., -1.0201, -1.0550, -1.0898],\n",
              "          ...,\n",
              "          [-0.8458, -0.7587, -0.5844,  ...,  0.4614, -0.5495, -0.7413],\n",
              "          [-0.9678, -0.8110, -0.6193,  ...,  0.9145, -0.0267, -0.4798],\n",
              "          [-1.1073, -0.9504, -0.7761,  ...,  1.0017,  0.3045, -0.3055]]]), 12)"
            ]
          },
          "metadata": {},
          "execution_count": 28
        }
      ]
    },
    {
      "cell_type": "code",
      "metadata": {
        "id": "-iCT70_0p8q2"
      },
      "source": [
        "#この中で、指定40クラス以外のデータを除いたサブセットを作る\n",
        "\n",
        "class TsgLiveSubset(data.Dataset):\n",
        "  \"\"\"\n",
        "  dataset: 元々のデータセット（torchvision.datasets)\n",
        "  class_list: クラスラベルのインデックスが格納されたリスト\n",
        "\n",
        "  \"\"\"\n",
        "\n",
        "  def __init__(self, subset_list, label_list):\n",
        "      self.subset_list = subset_list\n",
        "      self.label_list = label_list\n",
        "      \n",
        "\n",
        "  def __getitem__(self, idx):\n",
        "      #class_listに格納されたラベルを正解とするデータのみを取り出す\n",
        "      self.num = 0\n",
        "      img_transformed,label = self.subset_list[idx][0],self.subset_list[idx][1]\n",
        "      return img_transformed,label\n",
        "\n",
        "  def __len__(self):\n",
        "    return len(self.subset_list)\n"
      ],
      "execution_count": 11,
      "outputs": []
    },
    {
      "cell_type": "code",
      "metadata": {
        "colab": {
          "base_uri": "https://localhost:8080/"
        },
        "id": "bnhaDzAnz__d",
        "outputId": "4fb9c75b-1726-46d0-c10d-d8ba61c37d7e"
      },
      "source": [
        "trainset_tsglive = TsgLiveSubset(train_subset_list,tsglive_label)\n",
        "valset_tsglive = TsgLiveSubset(val_subset_list,tsglive_label)\n",
        "testset_tsglive = TsgLiveSubset(test_subset_list,tsglive_label)\n",
        "\n",
        "print(len(trainset_tsglive))"
      ],
      "execution_count": 29,
      "outputs": [
        {
          "output_type": "stream",
          "name": "stdout",
          "text": [
            "16006\n"
          ]
        }
      ]
    },
    {
      "cell_type": "markdown",
      "metadata": {
        "id": "RruL_IpwVzEx"
      },
      "source": [
        "データローダーの作成"
      ]
    },
    {
      "cell_type": "code",
      "metadata": {
        "id": "NBEnACom33pO"
      },
      "source": [
        "batch_size = 32\n",
        "trainloader_teglive = data.DataLoader(trainset_tsglive,batch_size,shuffle=True)\n",
        "valloader_tsglive = data.DataLoader(valset_tsglive,batch_size,shuffle=False)\n",
        "testloader_tsglive = data.DataLoader(testset_tsglive,batch_size,shuffle=False)"
      ],
      "execution_count": 30,
      "outputs": []
    },
    {
      "cell_type": "code",
      "metadata": {
        "id": "ZzWEUXdzGxyZ"
      },
      "source": [
        "dataloaders_dict = {\"train\":trainloader_teglive,\"val\":valloader_tsglive}"
      ],
      "execution_count": 31,
      "outputs": []
    },
    {
      "cell_type": "markdown",
      "metadata": {
        "id": "AlXGlFzX-KA7"
      },
      "source": [
        "##モデル・損失関数・最適化手法の選択"
      ]
    },
    {
      "cell_type": "markdown",
      "metadata": {
        "id": "OealGwuuA_bs"
      },
      "source": [
        "モデル選択"
      ]
    },
    {
      "cell_type": "code",
      "metadata": {
        "colab": {
          "base_uri": "https://localhost:8080/"
        },
        "id": "5BsoHrwQ-UAF",
        "outputId": "a8d76907-3aa3-4518-9589-20e9b87b07f0"
      },
      "source": [
        "#モデル選択\n",
        "#なんかEfficientNetってやつがいいらしいと聞いて\n",
        "#スペック・スキル的に学習を全部するのはきついので学習済みパラメータを導入\n",
        "!pip install efficientnet-pytorch"
      ],
      "execution_count": 15,
      "outputs": [
        {
          "output_type": "stream",
          "name": "stdout",
          "text": [
            "Collecting efficientnet-pytorch\n",
            "  Downloading efficientnet_pytorch-0.7.1.tar.gz (21 kB)\n",
            "Requirement already satisfied: torch in /usr/local/lib/python3.7/dist-packages (from efficientnet-pytorch) (1.9.0+cu102)\n",
            "Requirement already satisfied: typing-extensions in /usr/local/lib/python3.7/dist-packages (from torch->efficientnet-pytorch) (3.7.4.3)\n",
            "Building wheels for collected packages: efficientnet-pytorch\n",
            "  Building wheel for efficientnet-pytorch (setup.py) ... \u001b[?25l\u001b[?25hdone\n",
            "  Created wheel for efficientnet-pytorch: filename=efficientnet_pytorch-0.7.1-py3-none-any.whl size=16446 sha256=25e44c25f80b9de303d1b4771b4d7596530ea0fe1d1f5e0b6ec4b15ce7f121f2\n",
            "  Stored in directory: /root/.cache/pip/wheels/0e/cc/b2/49e74588263573ff778da58cc99b9c6349b496636a7e165be6\n",
            "Successfully built efficientnet-pytorch\n",
            "Installing collected packages: efficientnet-pytorch\n",
            "Successfully installed efficientnet-pytorch-0.7.1\n"
          ]
        }
      ]
    },
    {
      "cell_type": "code",
      "metadata": {
        "colab": {
          "base_uri": "https://localhost:8080/",
          "height": 103,
          "referenced_widgets": [
            "063d438adaf6449ba8a629c12490b035",
            "e47751d5a7cc479d9a868a1aada40c7b",
            "c744de2bb63c443aa4233a07e9bd86fb",
            "a31653ae67664b49a1d058318f456e35",
            "b707d7b1f8c541e6a8df01b849c4d5fd",
            "82f7080d7a484b5881817eb1b0b3b73d",
            "6142c9de34a7403bba53fd58a5497477",
            "d9c5203e313d4840873b2f946dbb1c67",
            "27ef33c8e1b94085966ddf4672981d6c",
            "dd562a3932444e028b091cf25a655211",
            "ab9b8cd5100f46ccb6d087cda7a4b94c"
          ]
        },
        "id": "qCFgN31x__Uo",
        "outputId": "3e8fcfd3-bfd0-4ef3-e964-ebaa5659c4b3"
      },
      "source": [
        "from efficientnet_pytorch import EfficientNet\n",
        "\n",
        "model = EfficientNet. from_pretrained(\"efficientnet-b7\")"
      ],
      "execution_count": 16,
      "outputs": [
        {
          "output_type": "stream",
          "name": "stderr",
          "text": [
            "Downloading: \"https://github.com/lukemelas/EfficientNet-PyTorch/releases/download/1.0/efficientnet-b7-dcc49843.pth\" to /root/.cache/torch/hub/checkpoints/efficientnet-b7-dcc49843.pth\n"
          ]
        },
        {
          "output_type": "display_data",
          "data": {
            "application/vnd.jupyter.widget-view+json": {
              "model_id": "063d438adaf6449ba8a629c12490b035",
              "version_minor": 0,
              "version_major": 2
            },
            "text/plain": [
              "  0%|          | 0.00/254M [00:00<?, ?B/s]"
            ]
          },
          "metadata": {}
        },
        {
          "output_type": "stream",
          "name": "stdout",
          "text": [
            "Loaded pretrained weights for efficientnet-b7\n"
          ]
        }
      ]
    },
    {
      "cell_type": "code",
      "metadata": {
        "id": "kzshSAZiCmrX"
      },
      "source": [
        "model"
      ],
      "execution_count": null,
      "outputs": []
    },
    {
      "cell_type": "code",
      "metadata": {
        "id": "OyFeC8uPCkeJ"
      },
      "source": [
        "#40クラス用に改変\n",
        "model._fc = nn.Linear(in_features=2560,out_features=40)"
      ],
      "execution_count": 18,
      "outputs": []
    },
    {
      "cell_type": "markdown",
      "metadata": {
        "id": "Xz-yoHCuCHdt"
      },
      "source": [
        "損失関数の定義\n"
      ]
    },
    {
      "cell_type": "code",
      "metadata": {
        "id": "L_fIVtfVA6G2"
      },
      "source": [
        "criterion = nn.CrossEntropyLoss()"
      ],
      "execution_count": 19,
      "outputs": []
    },
    {
      "cell_type": "markdown",
      "metadata": {
        "id": "NbrtJC2ICRsn"
      },
      "source": [
        "最適化手法の定義"
      ]
    },
    {
      "cell_type": "code",
      "metadata": {
        "id": "lSEgkkzMCddE"
      },
      "source": [
        "#転移学習部分を抽出\n",
        "params_to_update = []\n",
        "params_update_names = [\"_fc.weight\",\"_fc.bias\"]\n",
        "for name,param in model.named_parameters():\n",
        "  if name in params_update_names:\n",
        "    param.requires_grad = True\n",
        "    params_to_update.append(param)\n",
        "\n",
        "  else:\n",
        "    param.requires_grad = False"
      ],
      "execution_count": 21,
      "outputs": []
    },
    {
      "cell_type": "code",
      "metadata": {
        "colab": {
          "base_uri": "https://localhost:8080/"
        },
        "id": "rqxJ09gkFeC-",
        "outputId": "5fcba771-4963-4522-cdd2-f533d0bceaad"
      },
      "source": [
        "params_to_update[1]"
      ],
      "execution_count": 22,
      "outputs": [
        {
          "output_type": "execute_result",
          "data": {
            "text/plain": [
              "Parameter containing:\n",
              "tensor([ 0.0099,  0.0053,  0.0102,  0.0017, -0.0137,  0.0186, -0.0093,  0.0043,\n",
              "        -0.0137, -0.0070, -0.0046, -0.0049, -0.0068, -0.0072, -0.0045,  0.0070,\n",
              "        -0.0040, -0.0012, -0.0011,  0.0172,  0.0018,  0.0141,  0.0119,  0.0191,\n",
              "         0.0104, -0.0025, -0.0196,  0.0057,  0.0002,  0.0165,  0.0031, -0.0147,\n",
              "         0.0038, -0.0149, -0.0196, -0.0009,  0.0075,  0.0059, -0.0082,  0.0041],\n",
              "       requires_grad=True)"
            ]
          },
          "metadata": {},
          "execution_count": 22
        }
      ]
    },
    {
      "cell_type": "code",
      "metadata": {
        "id": "fvxrEvFhCVTB"
      },
      "source": [
        "optimizer = optim.Adam(params=params_to_update,lr= 0.0001)"
      ],
      "execution_count": 23,
      "outputs": []
    },
    {
      "cell_type": "markdown",
      "metadata": {
        "id": "q7FUev6KF38s"
      },
      "source": [
        "##学習・モデルの評価"
      ]
    },
    {
      "cell_type": "code",
      "metadata": {
        "id": "yux-dboLF7xN"
      },
      "source": [
        "def train_model(net,dataloaders_dict,criterion,optimizer,num_epochs):\n",
        "  for epoch in range(num_epochs):\n",
        "    print(\"Epoch:{}/{}\".format(epoch+1,num_epochs))\n",
        "    print(\"======================================\")\n",
        "\n",
        "    for phase in [\"train\",\"val\"]:\n",
        "      if phase == \"train\":\n",
        "        net.train() #訓練モードに\n",
        "      else:\n",
        "        net.eval() #検証モードに\n",
        "\n",
        "      epoch_loss = 0.0 #epochの損失和\n",
        "      epoch_corrects = 0 #epochの正解数\n",
        "\n",
        "      #未学習時の検証性能を確かめるため、epoch=0の訓練は省略\n",
        "      if (epoch == 0) and (phase == 'train'): \n",
        "        continue\n",
        "      #データローダからミニバッチを取り出すループ\n",
        "      for inputs,labels in tqdm(dataloaders_dict[phase]):\n",
        "        #勾配初期化\n",
        "        optimizer.zero_grad()\n",
        "\n",
        "        #順伝播(forward)計算\n",
        "        with torch.set_grad_enabled(phase=='train'):\n",
        "          outputs = net(inputs) #model(入力)で順伝播してくれるやつ\n",
        "          loss = criterion(outputs,labels) #nn.criterion(出力、正解ラベル)\n",
        "          _,preds = torch.max(outputs,1) \n",
        "\n",
        "          #訓練時のみ逆伝播\n",
        "          if phase == 'train':\n",
        "            loss.backward()\n",
        "            optimizer.step() #optimizer.stepでパラメータを更新する\n",
        "\n",
        "\n",
        "          #iteration結果の計算\n",
        "          #loss合計を更新（なんでepoch全体で足してるんだ？？）\n",
        "          epoch_loss += loss.item()*inputs.size(0)\n",
        "          \"\"\"\n",
        "          ここでなにしてるのかと言いますと\n",
        "          モチベーションとしては\n",
        "          \"epochごとのlossの総和を取りたい！！\"\n",
        "          そのために、各iterationごとに\n",
        "          \"バッチごとのlossの平均\"* \"バッチ数\"をたしあわせている\n",
        "          \"\"\"\n",
        "          #正解数の合計を更新\n",
        "          epoch_corrects += torch.sum(preds==labels.data)\n",
        "\n",
        "      #epochごとのlossと正解率を表示\n",
        "      epoch_loss = epoch_loss / len(dataloaders_dict[phase].dataset) #損失平均\n",
        "      #1epochは、バッチ抽出を繰り返してのべdataset全体と同じ枚数を抽出した時の回数だから\n",
        "      epoch_acc = epoch_corrects.double()/len(dataloaders_dict[phase].dataset)\n",
        "\n",
        "      print('{} Loss: {:.4f} Acc: {:.4f}'.format(phase,epoch_loss,epoch_acc))\n"
      ],
      "execution_count": 24,
      "outputs": []
    },
    {
      "cell_type": "code",
      "metadata": {
        "colab": {
          "base_uri": "https://localhost:8080/"
        },
        "id": "ormydn9AGrfs",
        "outputId": "e8d7189f-8fcd-434f-df86-60e6e21c9bba"
      },
      "source": [
        "#実行！！！\n",
        "num_epochs = 20\n",
        "train_model(model,dataloaders_dict,criterion,optimizer,num_epochs)"
      ],
      "execution_count": 33,
      "outputs": [
        {
          "metadata": {
            "tags": null
          },
          "name": "stdout",
          "output_type": "stream",
          "text": [
            "Epoch:1/20\n",
            "======================================\n"
          ]
        },
        {
          "metadata": {
            "tags": null
          },
          "name": "stderr",
          "output_type": "stream",
          "text": [
            "100%|██████████| 125/125 [01:44<00:00,  1.20it/s]\n"
          ]
        },
        {
          "metadata": {
            "tags": null
          },
          "name": "stdout",
          "output_type": "stream",
          "text": [
            "val Loss: 3.1128 Acc: 0.4089\n",
            "Epoch:2/20\n",
            "======================================\n"
          ]
        },
        {
          "metadata": {
            "tags": null
          },
          "name": "stderr",
          "output_type": "stream",
          "text": [
            "100%|██████████| 501/501 [09:20<00:00,  1.12s/it]\n"
          ]
        },
        {
          "metadata": {
            "tags": null
          },
          "name": "stdout",
          "output_type": "stream",
          "text": [
            "train Loss: 2.9491 Acc: 0.3990\n"
          ]
        },
        {
          "metadata": {
            "tags": null
          },
          "name": "stderr",
          "output_type": "stream",
          "text": [
            "100%|██████████| 125/125 [01:45<00:00,  1.18it/s]\n"
          ]
        },
        {
          "metadata": {
            "tags": null
          },
          "name": "stdout",
          "output_type": "stream",
          "text": [
            "val Loss: 2.9052 Acc: 0.4339\n",
            "Epoch:3/20\n",
            "======================================\n"
          ]
        },
        {
          "metadata": {
            "tags": null
          },
          "name": "stderr",
          "output_type": "stream",
          "text": [
            "100%|██████████| 501/501 [09:18<00:00,  1.11s/it]\n"
          ]
        },
        {
          "metadata": {
            "tags": null
          },
          "name": "stdout",
          "output_type": "stream",
          "text": [
            "train Loss: 2.7828 Acc: 0.4162\n"
          ]
        },
        {
          "metadata": {
            "tags": null
          },
          "name": "stderr",
          "output_type": "stream",
          "text": [
            "100%|██████████| 125/125 [01:45<00:00,  1.19it/s]\n"
          ]
        },
        {
          "metadata": {
            "tags": null
          },
          "name": "stdout",
          "output_type": "stream",
          "text": [
            "val Loss: 2.7642 Acc: 0.4454\n",
            "Epoch:4/20\n",
            "======================================\n"
          ]
        },
        {
          "metadata": {
            "tags": null
          },
          "name": "stderr",
          "output_type": "stream",
          "text": [
            "100%|██████████| 501/501 [09:20<00:00,  1.12s/it]\n"
          ]
        },
        {
          "metadata": {
            "tags": null
          },
          "name": "stdout",
          "output_type": "stream",
          "text": [
            "train Loss: 2.6708 Acc: 0.4269\n"
          ]
        },
        {
          "metadata": {
            "tags": null
          },
          "name": "stderr",
          "output_type": "stream",
          "text": [
            "100%|██████████| 125/125 [01:46<00:00,  1.17it/s]\n"
          ]
        },
        {
          "metadata": {
            "tags": null
          },
          "name": "stdout",
          "output_type": "stream",
          "text": [
            "val Loss: 2.6527 Acc: 0.4539\n",
            "Epoch:5/20\n",
            "======================================\n"
          ]
        },
        {
          "metadata": {
            "tags": null
          },
          "name": "stderr",
          "output_type": "stream",
          "text": [
            "100%|██████████| 501/501 [09:16<00:00,  1.11s/it]\n"
          ]
        },
        {
          "metadata": {
            "tags": null
          },
          "name": "stdout",
          "output_type": "stream",
          "text": [
            "train Loss: 2.5569 Acc: 0.4323\n"
          ]
        },
        {
          "metadata": {
            "tags": null
          },
          "name": "stderr",
          "output_type": "stream",
          "text": [
            "100%|██████████| 125/125 [01:45<00:00,  1.18it/s]\n"
          ]
        },
        {
          "metadata": {
            "tags": null
          },
          "name": "stdout",
          "output_type": "stream",
          "text": [
            "val Loss: 2.5386 Acc: 0.4604\n",
            "Epoch:6/20\n",
            "======================================\n"
          ]
        },
        {
          "metadata": {
            "tags": null
          },
          "name": "stderr",
          "output_type": "stream",
          "text": [
            "100%|██████████| 501/501 [09:13<00:00,  1.11s/it]\n"
          ]
        },
        {
          "metadata": {
            "tags": null
          },
          "name": "stdout",
          "output_type": "stream",
          "text": [
            "train Loss: 2.4722 Acc: 0.4406\n"
          ]
        },
        {
          "metadata": {
            "tags": null
          },
          "name": "stderr",
          "output_type": "stream",
          "text": [
            "100%|██████████| 125/125 [01:44<00:00,  1.19it/s]\n"
          ]
        },
        {
          "metadata": {
            "tags": null
          },
          "name": "stdout",
          "output_type": "stream",
          "text": [
            "val Loss: 2.4581 Acc: 0.4619\n",
            "Epoch:7/20\n",
            "======================================\n"
          ]
        },
        {
          "metadata": {
            "tags": null
          },
          "name": "stderr",
          "output_type": "stream",
          "text": [
            "100%|██████████| 501/501 [09:10<00:00,  1.10s/it]\n"
          ]
        },
        {
          "metadata": {
            "tags": null
          },
          "name": "stdout",
          "output_type": "stream",
          "text": [
            "train Loss: 2.4070 Acc: 0.4415\n"
          ]
        },
        {
          "metadata": {
            "tags": null
          },
          "name": "stderr",
          "output_type": "stream",
          "text": [
            "100%|██████████| 125/125 [01:45<00:00,  1.19it/s]\n"
          ]
        },
        {
          "metadata": {
            "tags": null
          },
          "name": "stdout",
          "output_type": "stream",
          "text": [
            "val Loss: 2.3810 Acc: 0.4677\n",
            "Epoch:8/20\n",
            "======================================\n"
          ]
        },
        {
          "metadata": {
            "tags": null
          },
          "name": "stderr",
          "output_type": "stream",
          "text": [
            "100%|██████████| 501/501 [09:21<00:00,  1.12s/it]\n"
          ]
        },
        {
          "metadata": {
            "tags": null
          },
          "name": "stdout",
          "output_type": "stream",
          "text": [
            "train Loss: 2.3502 Acc: 0.4484\n"
          ]
        },
        {
          "metadata": {
            "tags": null
          },
          "name": "stderr",
          "output_type": "stream",
          "text": [
            "100%|██████████| 125/125 [01:45<00:00,  1.18it/s]\n"
          ]
        },
        {
          "metadata": {
            "tags": null
          },
          "name": "stdout",
          "output_type": "stream",
          "text": [
            "val Loss: 2.3181 Acc: 0.4757\n",
            "Epoch:9/20\n",
            "======================================\n"
          ]
        },
        {
          "metadata": {
            "tags": null
          },
          "name": "stderr",
          "output_type": "stream",
          "text": [
            "100%|██████████| 501/501 [09:10<00:00,  1.10s/it]\n"
          ]
        },
        {
          "metadata": {
            "tags": null
          },
          "name": "stdout",
          "output_type": "stream",
          "text": [
            "train Loss: 2.2929 Acc: 0.4447\n"
          ]
        },
        {
          "metadata": {
            "tags": null
          },
          "name": "stderr",
          "output_type": "stream",
          "text": [
            "100%|██████████| 125/125 [01:45<00:00,  1.18it/s]\n"
          ]
        },
        {
          "metadata": {
            "tags": null
          },
          "name": "stdout",
          "output_type": "stream",
          "text": [
            "val Loss: 2.2656 Acc: 0.4732\n",
            "Epoch:10/20\n",
            "======================================\n"
          ]
        },
        {
          "metadata": {
            "tags": null
          },
          "name": "stderr",
          "output_type": "stream",
          "text": [
            "100%|██████████| 501/501 [09:18<00:00,  1.12s/it]\n"
          ]
        },
        {
          "metadata": {
            "tags": null
          },
          "name": "stdout",
          "output_type": "stream",
          "text": [
            "train Loss: 2.2353 Acc: 0.4513\n"
          ]
        },
        {
          "metadata": {
            "tags": null
          },
          "name": "stderr",
          "output_type": "stream",
          "text": [
            "100%|██████████| 125/125 [01:46<00:00,  1.17it/s]\n"
          ]
        },
        {
          "metadata": {
            "tags": null
          },
          "name": "stdout",
          "output_type": "stream",
          "text": [
            "val Loss: 2.2024 Acc: 0.4752\n",
            "Epoch:11/20\n",
            "======================================\n"
          ]
        },
        {
          "metadata": {
            "tags": null
          },
          "name": "stderr",
          "output_type": "stream",
          "text": [
            "100%|██████████| 501/501 [09:15<00:00,  1.11s/it]\n"
          ]
        },
        {
          "metadata": {
            "tags": null
          },
          "name": "stdout",
          "output_type": "stream",
          "text": [
            "train Loss: 2.1814 Acc: 0.4558\n"
          ]
        },
        {
          "metadata": {
            "tags": null
          },
          "name": "stderr",
          "output_type": "stream",
          "text": [
            "100%|██████████| 125/125 [01:44<00:00,  1.19it/s]\n"
          ]
        },
        {
          "metadata": {
            "tags": null
          },
          "name": "stdout",
          "output_type": "stream",
          "text": [
            "val Loss: 2.1403 Acc: 0.4765\n",
            "Epoch:12/20\n",
            "======================================\n"
          ]
        },
        {
          "metadata": {
            "tags": null
          },
          "name": "stderr",
          "output_type": "stream",
          "text": [
            "100%|██████████| 501/501 [09:09<00:00,  1.10s/it]\n"
          ]
        },
        {
          "metadata": {
            "tags": null
          },
          "name": "stdout",
          "output_type": "stream",
          "text": [
            "train Loss: 2.1230 Acc: 0.4530\n"
          ]
        },
        {
          "metadata": {
            "tags": null
          },
          "name": "stderr",
          "output_type": "stream",
          "text": [
            "100%|██████████| 125/125 [01:45<00:00,  1.19it/s]\n"
          ]
        },
        {
          "metadata": {
            "tags": null
          },
          "name": "stdout",
          "output_type": "stream",
          "text": [
            "val Loss: 2.0824 Acc: 0.4765\n",
            "Epoch:13/20\n",
            "======================================\n"
          ]
        },
        {
          "metadata": {
            "tags": null
          },
          "name": "stderr",
          "output_type": "stream",
          "text": [
            "100%|██████████| 501/501 [09:10<00:00,  1.10s/it]\n"
          ]
        },
        {
          "metadata": {
            "tags": null
          },
          "name": "stdout",
          "output_type": "stream",
          "text": [
            "train Loss: 2.0963 Acc: 0.4544\n"
          ]
        },
        {
          "metadata": {
            "tags": null
          },
          "name": "stderr",
          "output_type": "stream",
          "text": [
            "100%|██████████| 125/125 [01:44<00:00,  1.19it/s]\n"
          ]
        },
        {
          "metadata": {
            "tags": null
          },
          "name": "stdout",
          "output_type": "stream",
          "text": [
            "val Loss: 2.0465 Acc: 0.4782\n",
            "Epoch:14/20\n",
            "======================================\n"
          ]
        },
        {
          "metadata": {
            "tags": null
          },
          "name": "stderr",
          "output_type": "stream",
          "text": [
            "100%|██████████| 501/501 [09:12<00:00,  1.10s/it]\n"
          ]
        },
        {
          "metadata": {
            "tags": null
          },
          "name": "stdout",
          "output_type": "stream",
          "text": [
            "train Loss: 2.0490 Acc: 0.4538\n"
          ]
        },
        {
          "metadata": {
            "tags": null
          },
          "name": "stderr",
          "output_type": "stream",
          "text": [
            "100%|██████████| 125/125 [01:44<00:00,  1.20it/s]\n"
          ]
        },
        {
          "metadata": {
            "tags": null
          },
          "name": "stdout",
          "output_type": "stream",
          "text": [
            "val Loss: 2.0029 Acc: 0.4835\n",
            "Epoch:15/20\n",
            "======================================\n"
          ]
        },
        {
          "metadata": {
            "tags": null
          },
          "name": "stderr",
          "output_type": "stream",
          "text": [
            "100%|██████████| 501/501 [09:07<00:00,  1.09s/it]\n"
          ]
        },
        {
          "metadata": {
            "tags": null
          },
          "name": "stdout",
          "output_type": "stream",
          "text": [
            "train Loss: 2.0154 Acc: 0.4517\n"
          ]
        },
        {
          "metadata": {
            "tags": null
          },
          "name": "stderr",
          "output_type": "stream",
          "text": [
            "100%|██████████| 125/125 [01:45<00:00,  1.19it/s]\n"
          ]
        },
        {
          "metadata": {
            "tags": null
          },
          "name": "stdout",
          "output_type": "stream",
          "text": [
            "val Loss: 1.9641 Acc: 0.4817\n",
            "Epoch:16/20\n",
            "======================================\n"
          ]
        },
        {
          "metadata": {
            "tags": null
          },
          "name": "stderr",
          "output_type": "stream",
          "text": [
            "100%|██████████| 501/501 [09:20<00:00,  1.12s/it]\n"
          ]
        },
        {
          "metadata": {
            "tags": null
          },
          "name": "stdout",
          "output_type": "stream",
          "text": [
            "train Loss: 1.9739 Acc: 0.4610\n"
          ]
        },
        {
          "metadata": {
            "tags": null
          },
          "name": "stderr",
          "output_type": "stream",
          "text": [
            "100%|██████████| 125/125 [01:46<00:00,  1.18it/s]\n"
          ]
        },
        {
          "metadata": {
            "tags": null
          },
          "name": "stdout",
          "output_type": "stream",
          "text": [
            "val Loss: 1.9153 Acc: 0.4862\n",
            "Epoch:17/20\n",
            "======================================\n"
          ]
        },
        {
          "metadata": {
            "tags": null
          },
          "name": "stderr",
          "output_type": "stream",
          "text": [
            "100%|██████████| 501/501 [09:16<00:00,  1.11s/it]\n"
          ]
        },
        {
          "metadata": {
            "tags": null
          },
          "name": "stdout",
          "output_type": "stream",
          "text": [
            "train Loss: 1.9343 Acc: 0.4575\n"
          ]
        },
        {
          "metadata": {
            "tags": null
          },
          "name": "stderr",
          "output_type": "stream",
          "text": [
            "100%|██████████| 125/125 [01:44<00:00,  1.20it/s]\n"
          ]
        },
        {
          "metadata": {
            "tags": null
          },
          "name": "stdout",
          "output_type": "stream",
          "text": [
            "val Loss: 1.8832 Acc: 0.4822\n",
            "Epoch:18/20\n",
            "======================================\n"
          ]
        },
        {
          "metadata": {
            "tags": null
          },
          "name": "stderr",
          "output_type": "stream",
          "text": [
            "100%|██████████| 501/501 [09:18<00:00,  1.11s/it]\n"
          ]
        },
        {
          "metadata": {
            "tags": null
          },
          "name": "stdout",
          "output_type": "stream",
          "text": [
            "train Loss: 1.9001 Acc: 0.4567\n"
          ]
        },
        {
          "metadata": {
            "tags": null
          },
          "name": "stderr",
          "output_type": "stream",
          "text": [
            "100%|██████████| 125/125 [01:47<00:00,  1.16it/s]\n"
          ]
        },
        {
          "metadata": {
            "tags": null
          },
          "name": "stdout",
          "output_type": "stream",
          "text": [
            "val Loss: 1.8415 Acc: 0.4812\n",
            "Epoch:19/20\n",
            "======================================\n"
          ]
        },
        {
          "output_type": "stream",
          "name": "stderr",
          "text": [
            "100%|██████████| 501/501 [09:20<00:00,  1.12s/it]\n"
          ]
        },
        {
          "output_type": "stream",
          "name": "stdout",
          "text": [
            "train Loss: 1.8640 Acc: 0.4603\n"
          ]
        },
        {
          "output_type": "stream",
          "name": "stderr",
          "text": [
            "100%|██████████| 125/125 [01:45<00:00,  1.18it/s]\n"
          ]
        },
        {
          "output_type": "stream",
          "name": "stdout",
          "text": [
            "val Loss: 1.8180 Acc: 0.4875\n",
            "Epoch:20/20\n",
            "======================================\n"
          ]
        },
        {
          "output_type": "stream",
          "name": "stderr",
          "text": [
            "100%|██████████| 501/501 [09:13<00:00,  1.10s/it]\n"
          ]
        },
        {
          "output_type": "stream",
          "name": "stdout",
          "text": [
            "train Loss: 1.8189 Acc: 0.4684\n"
          ]
        },
        {
          "output_type": "stream",
          "name": "stderr",
          "text": [
            "100%|██████████| 125/125 [01:46<00:00,  1.18it/s]"
          ]
        },
        {
          "output_type": "stream",
          "name": "stdout",
          "text": [
            "val Loss: 1.7718 Acc: 0.4855\n"
          ]
        },
        {
          "output_type": "stream",
          "name": "stderr",
          "text": [
            "\n"
          ]
        }
      ]
    }
  ]
}